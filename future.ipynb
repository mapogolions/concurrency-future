{
 "cells": [
  {
   "cell_type": "markdown",
   "metadata": {},
   "source": [
    "Future is a container that can hold either the result of a computation or an error that occurred during that computation. When a future is created, it starts in a `PENDING` state. The library does not intend for this object to be created manually, except perhaps for testing purposes."
   ]
  },
  {
   "cell_type": "code",
   "execution_count": 13,
   "metadata": {},
   "outputs": [],
   "source": [
    "import concurrent.futures as futures\n",
    "\n",
    "f = futures.Future()\n",
    "assert(f._result is None)\n",
    "assert(f._exception is None)\n",
    "assert(f._state == 'PENDING')"
   ]
  },
  {
   "cell_type": "markdown",
   "metadata": {},
   "source": [
    "The `PENDING` status indicates that a computation requested by the user has been registered in the thread pool and placed in a queue, but it has not yet been picked up by any thread for execution. Once a free thread takes the task (callback) from the queue, the future transitions to the `RUNNING` state. A future can only be canceled while it is in the `PENDING` state. Therefore, there is a window of time between the `PENDING` and `RUNNING` states during which the requested computation can be canceled."
   ]
  },
  {
   "cell_type": "code",
   "execution_count": 14,
   "metadata": {},
   "outputs": [],
   "source": [
    "import concurrent.futures as futures\n",
    "\n",
    "def should_cancel_pending_future():\n",
    "    f = futures.Future()\n",
    "    assert(f._state == 'PENDING')\n",
    "    assert(f.cancel())\n",
    "    assert(f._state == 'CANCELLED')\n",
    "\n",
    "def should_not_cancel_running_future():\n",
    "    f = futures.Future()\n",
    "    f.set_running_or_notify_cancel()\n",
    "    assert(f._state == 'RUNNING')\n",
    "    assert(not f.cancel())\n",
    "\n",
    "def cancel_is_idempotent():\n",
    "    f = futures.Future()\n",
    "    assert(f.cancel())\n",
    "    assert(f.cancel())\n",
    "\n",
    "\n",
    "should_cancel_pending_future()\n",
    "should_not_cancel_running_future()\n",
    "cancel_is_idempotent()"
   ]
  },
  {
   "cell_type": "markdown",
   "metadata": {},
   "source": [
    "A requested operation in the thread pool can either complete with a computed value or result in an error. Regardless of the outcome, the future transitions to the `FINISHED` state. The result or error is then stored in the corresponding fields."
   ]
  },
  {
   "cell_type": "code",
   "execution_count": 15,
   "metadata": {},
   "outputs": [],
   "source": [
    "import concurrent.futures as futures\n",
    "\n",
    "def future_completed_with_result():\n",
    "    f = futures.Future()\n",
    "    f.set_result('foo')\n",
    "    assert(f._state == 'FINISHED')\n",
    "    assert(f._result == 'foo')\n",
    "    assert(f._exception is None)\n",
    "\n",
    "def future_completed_with_exception():\n",
    "    f = futures.Future()\n",
    "    f.set_exception(NameError())\n",
    "    assert(f._state == 'FINISHED')\n",
    "    assert(f._result is None)\n",
    "    assert(isinstance(f._exception, NameError))\n",
    "\n",
    "future_completed_with_result()\n",
    "future_completed_with_exception()\n"
   ]
  },
  {
   "cell_type": "markdown",
   "metadata": {},
   "source": [
    "To retrieve the result of a computation, the `result` method is used. If the computation is not yet complete, this method will block the current thread (from which `result` was called) until the computation finishes or the wait times out."
   ]
  },
  {
   "cell_type": "markdown",
   "metadata": {},
   "source": [
    "If the computation completes successfully without errors, the `result` method returns the computed value."
   ]
  },
  {
   "cell_type": "code",
   "execution_count": 16,
   "metadata": {},
   "outputs": [],
   "source": [
    "import concurrent.futures as futures\n",
    "import time\n",
    "import threading\n",
    "\n",
    "f = futures.Future()\n",
    "def target():\n",
    "    time.sleep(1)\n",
    "    f.set_result('foo')\n",
    "threading.Thread(target=target).start()\n",
    "assert(f.result() == 'foo')"
   ]
  },
  {
   "cell_type": "markdown",
   "metadata": {},
   "source": [
    "If an exception occurred during the computation, `result` will raise that exception."
   ]
  },
  {
   "cell_type": "code",
   "execution_count": 2,
   "metadata": {},
   "outputs": [],
   "source": [
    "import concurrent.futures as futures\n",
    "import time\n",
    "import threading\n",
    "\n",
    "f = futures.Future()\n",
    "def target():\n",
    "    time.sleep(1)\n",
    "    f.set_exception(NameError)\n",
    "threading.Thread(target=target).start()\n",
    "try:\n",
    "    f.result()\n",
    "    raise Exception()\n",
    "except NameError:\n",
    "    assert(True)"
   ]
  },
  {
   "cell_type": "markdown",
   "metadata": {},
   "source": [
    "If the method times out while waiting, a `TimeoutError` is raised."
   ]
  },
  {
   "cell_type": "code",
   "execution_count": null,
   "metadata": {},
   "outputs": [],
   "source": [
    "import concurrent.futures as futures\n",
    "\n",
    "f = futures.Future()\n",
    "try:\n",
    "    f.result(1)\n",
    "    raise Exception()\n",
    "except TimeoutError:\n",
    "    assert(f._result is None)\n",
    "    assert(f._exception is None)"
   ]
  },
  {
   "cell_type": "markdown",
   "metadata": {},
   "source": [
    "The attempt to obtain the result of a computation that was canceled will raise a `CancelledError`."
   ]
  },
  {
   "cell_type": "code",
   "execution_count": 1,
   "metadata": {},
   "outputs": [],
   "source": [
    "import concurrent.futures as futures\n",
    "\n",
    "f = futures.Future()\n",
    "assert(f.cancel())\n",
    "try:\n",
    "    f.result()\n",
    "    raise Exception()\n",
    "except futures.CancelledError:\n",
    "    assert(True)\n"
   ]
  },
  {
   "cell_type": "markdown",
   "metadata": {},
   "source": [
    "In the development process, it is quite common to need to run N computations on a thread pool and wait for their completion. To achieve this, the library provides a `wait` function. There are several waiting strategies: `FIRST_COMPLETED`, `FIRST_EXCEPTION`, `ALL_COMPLETED`.\n",
    "\n",
    "> Common to all waiting strategies is that if the futures passed to the `wait` method are already completed, the collection of the passed futures is returned regardless of the chosen strategy. It does not matter how they were completed whether with an error, a result, or if they were canceled."
   ]
  },
  {
   "cell_type": "code",
   "execution_count": 11,
   "metadata": {},
   "outputs": [],
   "source": [
    "import concurrent.futures as futures\n",
    "\n",
    "def test(return_when):\n",
    "    f1, f2, f3 = futures.Future(), futures.Future(), futures.Future()\n",
    "    f1.cancel()\n",
    "    f1.set_running_or_notify_cancel() # required\n",
    "    f2.set_result('foo')\n",
    "    f3.set_exception(NameError)\n",
    "\n",
    "    r = futures.wait([f1, f2, f3], return_when=return_when)\n",
    "    assert(len(r.done) == 3)\n",
    "    assert(len(r.not_done) == 0)\n",
    "\n",
    "for return_when in [futures.ALL_COMPLETED, futures.FIRST_EXCEPTION, futures.FIRST_COMPLETED]:\n",
    "    test(return_when)\n"
   ]
  },
  {
   "cell_type": "markdown",
   "metadata": {},
   "source": [
    "The `FIRST_COMPLETED` strategy guarantees the return of a collection with at least one completed future or an empty collection in case of a timeout. This strategy DOES NOT imply that the returned collection cannot contain multiple elements."
   ]
  },
  {
   "cell_type": "code",
   "execution_count": 10,
   "metadata": {},
   "outputs": [],
   "source": [
    "import concurrent.futures as futures\n",
    "import threading\n",
    "import time\n",
    "\n",
    "f1 = futures.Future()\n",
    "f2 = futures.Future()\n",
    "\n",
    "def target():\n",
    "    time.sleep(1)\n",
    "    f1.set_result(True)\n",
    "\n",
    "threading.Thread(target=target).start()\n",
    "\n",
    "r = futures.wait([f1, f2], return_when=futures.FIRST_COMPLETED)\n",
    "assert(len(r.done) == 1)\n",
    "assert(len(r.not_done) == 1)"
   ]
  },
  {
   "cell_type": "code",
   "execution_count": 2,
   "metadata": {},
   "outputs": [],
   "source": [
    "import concurrent.futures as futures\n",
    "\n",
    "f1 = futures.Future()\n",
    "f1.set_result('foo')\n",
    "f2 = futures.Future()\n",
    "r = futures.wait(fs=[f1, f2], timeout=2, return_when=futures.ALL_COMPLETED)\n",
    "assert(len(r.done) == 1)"
   ]
  }
 ],
 "metadata": {
  "kernelspec": {
   "display_name": ".venv",
   "language": "python",
   "name": "python3"
  },
  "language_info": {
   "codemirror_mode": {
    "name": "ipython",
    "version": 3
   },
   "file_extension": ".py",
   "mimetype": "text/x-python",
   "name": "python",
   "nbconvert_exporter": "python",
   "pygments_lexer": "ipython3",
   "version": "3.11.2"
  }
 },
 "nbformat": 4,
 "nbformat_minor": 2
}
