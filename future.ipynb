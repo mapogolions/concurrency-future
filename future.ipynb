{
 "cells": [
  {
   "cell_type": "markdown",
   "metadata": {},
   "source": [
    "Future is a container that can hold either the result of a computation or an error that occurred during that computation. When a future is created, it starts in a `PENDING` state. The library does not intend for this object to be created manually, except perhaps for testing purposes."
   ]
  },
  {
   "cell_type": "code",
   "execution_count": 13,
   "metadata": {},
   "outputs": [],
   "source": [
    "import concurrent.futures as futures\n",
    "\n",
    "f = futures.Future()\n",
    "assert(f._result is None)\n",
    "assert(f._exception is None)\n",
    "assert(f._state == 'PENDING')"
   ]
  },
  {
   "cell_type": "markdown",
   "metadata": {},
   "source": [
    "The `PENDING` status indicates that a computation requested by the user has been registered in the thread pool and placed in a queue, but it has not yet been picked up by any thread for execution. Once a free thread takes the task (callback) from the queue, the future transitions to the `RUNNING` state. A future can only be canceled while it is in the `PENDING` state. Therefore, there is a window of time between the `PENDING` and `RUNNING` states during which the requested computation can be canceled."
   ]
  },
  {
   "cell_type": "code",
   "execution_count": 14,
   "metadata": {},
   "outputs": [],
   "source": [
    "import concurrent.futures as futures\n",
    "\n",
    "def should_cancel_pending_future():\n",
    "    f = futures.Future()\n",
    "    assert(f._state == 'PENDING')\n",
    "    assert(f.cancel())\n",
    "    assert(f._state == 'CANCELLED')\n",
    "\n",
    "def should_not_cancel_running_future():\n",
    "    f = futures.Future()\n",
    "    f.set_running_or_notify_cancel()\n",
    "    assert(f._state == 'RUNNING')\n",
    "    assert(not f.cancel())\n",
    "\n",
    "def cancel_is_idempotent():\n",
    "    f = futures.Future()\n",
    "    assert(f.cancel())\n",
    "    assert(f.cancel())\n",
    "\n",
    "\n",
    "should_cancel_pending_future()\n",
    "should_not_cancel_running_future()\n",
    "cancel_is_idempotent()"
   ]
  },
  {
   "cell_type": "markdown",
   "metadata": {},
   "source": [
    "A requested operation in the thread pool can either complete with a computed value or result in an error. Regardless of the outcome, the future transitions to the `FINISHED` state. The result or error is then stored in the corresponding fields."
   ]
  },
  {
   "cell_type": "code",
   "execution_count": 15,
   "metadata": {},
   "outputs": [],
   "source": [
    "import concurrent.futures as futures\n",
    "\n",
    "def future_completed_with_result():\n",
    "    f = futures.Future()\n",
    "    f.set_result('foo')\n",
    "    assert(f._state == 'FINISHED')\n",
    "    assert(f._result == 'foo')\n",
    "    assert(f._exception is None)\n",
    "\n",
    "def future_completed_with_exception():\n",
    "    f = futures.Future()\n",
    "    f.set_exception(NameError())\n",
    "    assert(f._state == 'FINISHED')\n",
    "    assert(f._result is None)\n",
    "    assert(isinstance(f._exception, NameError))\n",
    "\n",
    "future_completed_with_result()\n",
    "future_completed_with_exception()\n"
   ]
  },
  {
   "cell_type": "markdown",
   "metadata": {},
   "source": [
    "To retrieve the result of a computation, the `result` method is used. If the computation is not yet complete, this method will block the current thread (from which `result` was called) until the computation finishes or the wait times out."
   ]
  },
  {
   "cell_type": "markdown",
   "metadata": {},
   "source": [
    "If the computation completes successfully without errors, the `result` method returns the computed value."
   ]
  },
  {
   "cell_type": "code",
   "execution_count": 16,
   "metadata": {},
   "outputs": [],
   "source": [
    "import concurrent.futures as futures\n",
    "import time\n",
    "import threading\n",
    "\n",
    "f = futures.Future()\n",
    "def target():\n",
    "    time.sleep(1)\n",
    "    f.set_result('foo')\n",
    "threading.Thread(target=target).start()\n",
    "assert(f.result() == 'foo')"
   ]
  },
  {
   "cell_type": "markdown",
   "metadata": {},
   "source": [
    "If an exception occurred during the computation, `result` will raise that exception."
   ]
  },
  {
   "cell_type": "code",
   "execution_count": 17,
   "metadata": {},
   "outputs": [],
   "source": [
    "import concurrent.futures as futures\n",
    "import time\n",
    "import threading\n",
    "\n",
    "f = futures.Future()\n",
    "def target():\n",
    "    time.sleep(1)\n",
    "    f.set_exception(NameError)\n",
    "threading.Thread(target=target).start()\n",
    "try:\n",
    "    f.result()\n",
    "    assert(False)\n",
    "except NameError:\n",
    "    assert(True)"
   ]
  },
  {
   "cell_type": "markdown",
   "metadata": {},
   "source": [
    "If the method times out while waiting, a `TimeoutError` is raised."
   ]
  },
  {
   "cell_type": "code",
   "execution_count": 18,
   "metadata": {},
   "outputs": [],
   "source": [
    "import concurrent.futures as futures\n",
    "\n",
    "f = futures.Future()\n",
    "try:\n",
    "    f.result(1)\n",
    "    assert(False)\n",
    "except TimeoutError:\n",
    "    assert(f._result is None)\n",
    "    assert(f._exception is None)\n"
   ]
  }
 ],
 "metadata": {
  "kernelspec": {
   "display_name": ".venv",
   "language": "python",
   "name": "python3"
  },
  "language_info": {
   "codemirror_mode": {
    "name": "ipython",
    "version": 3
   },
   "file_extension": ".py",
   "mimetype": "text/x-python",
   "name": "python",
   "nbconvert_exporter": "python",
   "pygments_lexer": "ipython3",
   "version": "3.11.2"
  }
 },
 "nbformat": 4,
 "nbformat_minor": 2
}
